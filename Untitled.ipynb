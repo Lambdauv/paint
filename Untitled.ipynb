{
 "cells": [
  {
   "cell_type": "code",
   "execution_count": 1,
   "metadata": {},
   "outputs": [],
   "source": [
    "import gdspy\n",
    "import numpy\n",
    "import rf\n",
    "import mech"
   ]
  },
  {
   "cell_type": "code",
   "execution_count": null,
   "metadata": {},
   "outputs": [],
   "source": [
    "newcpw=rf.cpw(\"CPW1\",5,1,0,0,0)\n",
    "cpw_cell = gdspy.Cell('CPW')\n",
    "newcpw.addlauncher(50,20,80,80)\n",
    "newcpw.addsegment(0,50)\n",
    "newcpw.addturn(numpy.pi/2,10)\n",
    "newcpw.addsegment(newcpw.paths[0].direction,50)\n",
    "newcpw.addlauncher(50,20,80,80)\n",
    "newcpw.add2cell(cpw_cell)\n",
    "gdspy.write_gds('tutorial.gds', unit=1.0e-6, precision=1.0e-9)"
   ]
  },
  {
   "cell_type": "code",
   "execution_count": null,
   "metadata": {},
   "outputs": [],
   "source": [
    "newcpw=rf.cpw(\"CPW1\",5,1,0,0,0)\n",
    "cpw_cell = gdspy.Cell('CPW')\n",
    "newcpw.addlauncher(50,20,80,80)\n",
    "newcpw.addsegment(0,50)\n",
    "newcpw.endgap()\n",
    "newcpw.add2cell(cpw_cell)\n",
    "gdspy.write_gds('tutorial.gds', unit=1.0e-6, precision=1.0e-9)"
   ]
  },
  {
   "cell_type": "code",
   "execution_count": null,
   "metadata": {},
   "outputs": [],
   "source": [
    "newcpw=rf.cpw(\"CPW1\",5,1,0,0,0)\n",
    "cpw_cell = gdspy.Cell('CPW')\n",
    "newcpw.endgap()\n",
    "newcpw.addsegment(0,50)\n",
    "newcpw.addlauncher(50,20,80,80)\n",
    "\n",
    "newcpw.add2cell(cpw_cell)\n",
    "gdspy.write_gds('tutorial.gds', unit=1.0e-6, precision=1.0e-9)"
   ]
  },
  {
   "cell_type": "code",
   "execution_count": null,
   "metadata": {},
   "outputs": [],
   "source": [
    "newcpw.paths[0].__dict__.keys()"
   ]
  },
  {
   "cell_type": "code",
   "execution_count": null,
   "metadata": {},
   "outputs": [],
   "source": [
    "import inspect"
   ]
  },
  {
   "cell_type": "code",
   "execution_count": null,
   "metadata": {},
   "outputs": [],
   "source": [
    " inspect.getmembers(newcpw.paths[0], lambda a:not(inspect.isroutine(a)))"
   ]
  },
  {
   "cell_type": "code",
   "execution_count": null,
   "metadata": {},
   "outputs": [],
   "source": [
    "newcpw.paths[0].polygons"
   ]
  },
  {
   "cell_type": "code",
   "execution_count": null,
   "metadata": {},
   "outputs": [],
   "source": [
    "newcpw=rf.cpw(\"CPW1\",5,1,0,0,0)\n",
    "cpw_cell = gdspy.Cell('CPW')\n",
    "newcpw.endgap()\n"
   ]
  },
  {
   "cell_type": "code",
   "execution_count": null,
   "metadata": {},
   "outputs": [],
   "source": [
    "newcpw.addsegment(0,50)"
   ]
  },
  {
   "cell_type": "code",
   "execution_count": null,
   "metadata": {},
   "outputs": [],
   "source": [
    "newcpw=rf.cpw(\"CPW1\",5,1,0,0,0)\n",
    "cpw_cell = gdspy.Cell('CPW')\n",
    "newcpw.endgap()\n",
    "newcpw.addmeander(50,80,100,30,10)"
   ]
  },
  {
   "cell_type": "code",
   "execution_count": null,
   "metadata": {},
   "outputs": [],
   "source": [
    "newcpw.add2cell(cpw_cell)\n",
    "gdspy.write_gds('tutorial.gds', unit=1.0e-6, precision=1.0e-9)"
   ]
  },
  {
   "cell_type": "code",
   "execution_count": null,
   "metadata": {},
   "outputs": [],
   "source": [
    "newjj=rf.squid(40,5,5,30)\n",
    "newjj.addwires([1,1,3],5)\n",
    "jj_cell=gdspy.Cell('JJ')\n",
    "newjj.add2cell(jj_cell)\n",
    "gdspy.write_gds('tutorial.gds', unit=1.0e-6, precision=1.0e-9)"
   ]
  },
  {
   "cell_type": "code",
   "execution_count": null,
   "metadata": {},
   "outputs": [],
   "source": [
    "newhole=mech.cross(0.169,0.488)\n",
    "holecell=gdspy.Cell('cross0')\n",
    "newhole.add2cell(holecell)\n",
    "holes=mech.holes('crosses',holecell,arrayaxes=((0.55,0),(0,0.55)),arrayperiods=(20,40),excludepoly=[[(1,1),(2,1),(2,2),(1,2)]])\n",
    "gdspy.write_gds('tutorial.gds', unit=1.0e-6, precision=1.0e-9)"
   ]
  },
  {
   "cell_type": "code",
   "execution_count": 2,
   "metadata": {},
   "outputs": [
    {
     "ename": "TypeError",
     "evalue": "'<=' not supported between instances of 'NoneType' and 'int'",
     "output_type": "error",
     "traceback": [
      "\u001b[0;31m---------------------------------------------------------------------------\u001b[0m",
      "\u001b[0;31mTypeError\u001b[0m                                 Traceback (most recent call last)",
      "\u001b[0;32m<ipython-input-2-fb47806a77a1>\u001b[0m in \u001b[0;36m<module>\u001b[0;34m()\u001b[0m\n\u001b[0;32m----> 1\u001b[0;31m \u001b[0mnewhole\u001b[0m\u001b[0;34m=\u001b[0m\u001b[0mmech\u001b[0m\u001b[0;34m.\u001b[0m\u001b[0mcircle\u001b[0m\u001b[0;34m(\u001b[0m\u001b[0;36m1\u001b[0m\u001b[0;34m)\u001b[0m\u001b[0;34m\u001b[0m\u001b[0m\n\u001b[0m\u001b[1;32m      2\u001b[0m \u001b[0mholecell\u001b[0m\u001b[0;34m=\u001b[0m\u001b[0mgdspy\u001b[0m\u001b[0;34m.\u001b[0m\u001b[0mCell\u001b[0m\u001b[0;34m(\u001b[0m\u001b[0;34m'circle0'\u001b[0m\u001b[0;34m)\u001b[0m\u001b[0;34m\u001b[0m\u001b[0m\n\u001b[1;32m      3\u001b[0m \u001b[0mnewhole\u001b[0m\u001b[0;34m.\u001b[0m\u001b[0madd2cell\u001b[0m\u001b[0;34m(\u001b[0m\u001b[0mholecell\u001b[0m\u001b[0;34m)\u001b[0m\u001b[0;34m\u001b[0m\u001b[0m\n\u001b[1;32m      4\u001b[0m \u001b[0mholes\u001b[0m\u001b[0;34m=\u001b[0m\u001b[0mmech\u001b[0m\u001b[0;34m.\u001b[0m\u001b[0mholes\u001b[0m\u001b[0;34m(\u001b[0m\u001b[0;34m'circles'\u001b[0m\u001b[0;34m,\u001b[0m\u001b[0mholecell\u001b[0m\u001b[0;34m,\u001b[0m\u001b[0marrayaxes\u001b[0m\u001b[0;34m=\u001b[0m\u001b[0;34m(\u001b[0m\u001b[0;34m(\u001b[0m\u001b[0;36m2\u001b[0m\u001b[0;34m,\u001b[0m\u001b[0;36m0\u001b[0m\u001b[0;34m)\u001b[0m\u001b[0;34m,\u001b[0m\u001b[0;34m(\u001b[0m\u001b[0;36m0\u001b[0m\u001b[0;34m,\u001b[0m\u001b[0;36m2\u001b[0m\u001b[0;34m)\u001b[0m\u001b[0;34m)\u001b[0m\u001b[0;34m,\u001b[0m\u001b[0marrayperiods\u001b[0m\u001b[0;34m=\u001b[0m\u001b[0;34m(\u001b[0m\u001b[0;36m20\u001b[0m\u001b[0;34m,\u001b[0m\u001b[0;36m40\u001b[0m\u001b[0;34m)\u001b[0m\u001b[0;34m,\u001b[0m\u001b[0mexcludepoly\u001b[0m\u001b[0;34m=\u001b[0m\u001b[0;34m[\u001b[0m\u001b[0;34m[\u001b[0m\u001b[0;34m(\u001b[0m\u001b[0;36m1\u001b[0m\u001b[0;34m,\u001b[0m\u001b[0;36m1\u001b[0m\u001b[0;34m)\u001b[0m\u001b[0;34m,\u001b[0m\u001b[0;34m(\u001b[0m\u001b[0;36m2\u001b[0m\u001b[0;34m,\u001b[0m\u001b[0;36m1\u001b[0m\u001b[0;34m)\u001b[0m\u001b[0;34m,\u001b[0m\u001b[0;34m(\u001b[0m\u001b[0;36m2\u001b[0m\u001b[0;34m,\u001b[0m\u001b[0;36m2\u001b[0m\u001b[0;34m)\u001b[0m\u001b[0;34m,\u001b[0m\u001b[0;34m(\u001b[0m\u001b[0;36m1\u001b[0m\u001b[0;34m,\u001b[0m\u001b[0;36m2\u001b[0m\u001b[0;34m)\u001b[0m\u001b[0;34m]\u001b[0m\u001b[0;34m]\u001b[0m\u001b[0;34m)\u001b[0m\u001b[0;34m\u001b[0m\u001b[0m\n\u001b[1;32m      5\u001b[0m \u001b[0mgdspy\u001b[0m\u001b[0;34m.\u001b[0m\u001b[0mwrite_gds\u001b[0m\u001b[0;34m(\u001b[0m\u001b[0;34m'tutorial.gds'\u001b[0m\u001b[0;34m,\u001b[0m \u001b[0munit\u001b[0m\u001b[0;34m=\u001b[0m\u001b[0;36m1.0e-6\u001b[0m\u001b[0;34m,\u001b[0m \u001b[0mprecision\u001b[0m\u001b[0;34m=\u001b[0m\u001b[0;36m1.0e-9\u001b[0m\u001b[0;34m)\u001b[0m\u001b[0;34m\u001b[0m\u001b[0m\n",
      "\u001b[0;32m~/Google Drive/Caltech/Research/Development/paint/mech.py\u001b[0m in \u001b[0;36m__init__\u001b[0;34m(self, rad, rad_in, layer, datatype)\u001b[0m\n\u001b[1;32m     62\u001b[0m             \u001b[0mself\u001b[0m\u001b[0;34m.\u001b[0m\u001b[0mcircle\u001b[0m \u001b[0;34m=\u001b[0m \u001b[0mgdspy\u001b[0m\u001b[0;34m.\u001b[0m\u001b[0mRound\u001b[0m\u001b[0;34m(\u001b[0m\u001b[0;34m(\u001b[0m\u001b[0;36m0\u001b[0m\u001b[0;34m,\u001b[0m \u001b[0;36m0\u001b[0m\u001b[0;34m)\u001b[0m\u001b[0;34m,\u001b[0m \u001b[0mrad\u001b[0m\u001b[0;34m,\u001b[0m\u001b[0;34m**\u001b[0m\u001b[0;34m(\u001b[0m\u001b[0mself\u001b[0m\u001b[0;34m.\u001b[0m\u001b[0mspec\u001b[0m\u001b[0;34m)\u001b[0m\u001b[0;34m)\u001b[0m\u001b[0;34m\u001b[0m\u001b[0m\n\u001b[1;32m     63\u001b[0m         \u001b[0;32melse\u001b[0m\u001b[0;34m:\u001b[0m\u001b[0;34m\u001b[0m\u001b[0m\n\u001b[0;32m---> 64\u001b[0;31m             \u001b[0mself\u001b[0m\u001b[0;34m.\u001b[0m\u001b[0mcircle\u001b[0m \u001b[0;34m=\u001b[0m \u001b[0mgdspy\u001b[0m\u001b[0;34m.\u001b[0m\u001b[0mRound\u001b[0m\u001b[0;34m(\u001b[0m\u001b[0;34m(\u001b[0m\u001b[0;36m0\u001b[0m\u001b[0;34m,\u001b[0m \u001b[0;36m0\u001b[0m\u001b[0;34m)\u001b[0m\u001b[0;34m,\u001b[0m \u001b[0mrad\u001b[0m\u001b[0;34m,\u001b[0m\u001b[0minner_radius\u001b[0m\u001b[0;34m=\u001b[0m\u001b[0mrad_in\u001b[0m\u001b[0;34m,\u001b[0m\u001b[0;34m**\u001b[0m\u001b[0;34m(\u001b[0m\u001b[0mself\u001b[0m\u001b[0;34m.\u001b[0m\u001b[0mspec\u001b[0m\u001b[0;34m)\u001b[0m\u001b[0;34m)\u001b[0m\u001b[0;34m\u001b[0m\u001b[0m\n\u001b[0m\u001b[1;32m     65\u001b[0m             \u001b[0mself\u001b[0m\u001b[0;34m.\u001b[0m\u001b[0mrad_in\u001b[0m\u001b[0;34m=\u001b[0m\u001b[0mrad_in\u001b[0m\u001b[0;34m\u001b[0m\u001b[0m\n\u001b[1;32m     66\u001b[0m     \u001b[0;32mdef\u001b[0m \u001b[0madd2cell\u001b[0m\u001b[0;34m(\u001b[0m\u001b[0mself\u001b[0m\u001b[0;34m,\u001b[0m\u001b[0mcell\u001b[0m\u001b[0;34m)\u001b[0m\u001b[0;34m:\u001b[0m\u001b[0;34m\u001b[0m\u001b[0m\n",
      "\u001b[0;32m/opt/local/Library/Frameworks/Python.framework/Versions/3.6/lib/python3.6/site-packages/gdspy/__init__.py\u001b[0m in \u001b[0;36m__init__\u001b[0;34m(self, center, radius, inner_radius, initial_angle, final_angle, number_of_points, max_points, layer, datatype)\u001b[0m\n\u001b[1;32m    851\u001b[0m                  datatype=0):\n\u001b[1;32m    852\u001b[0m         \u001b[0;32mif\u001b[0m \u001b[0misinstance\u001b[0m\u001b[0;34m(\u001b[0m\u001b[0mnumber_of_points\u001b[0m\u001b[0;34m,\u001b[0m \u001b[0mfloat\u001b[0m\u001b[0;34m)\u001b[0m\u001b[0;34m:\u001b[0m\u001b[0;34m\u001b[0m\u001b[0m\n\u001b[0;32m--> 853\u001b[0;31m             \u001b[0;32mif\u001b[0m \u001b[0minner_radius\u001b[0m \u001b[0;34m<=\u001b[0m \u001b[0;36m0\u001b[0m\u001b[0;34m:\u001b[0m\u001b[0;34m\u001b[0m\u001b[0m\n\u001b[0m\u001b[1;32m    854\u001b[0m                 \u001b[0;32mif\u001b[0m \u001b[0mfinal_angle\u001b[0m \u001b[0;34m==\u001b[0m \u001b[0minitial_angle\u001b[0m\u001b[0;34m:\u001b[0m\u001b[0;34m\u001b[0m\u001b[0m\n\u001b[1;32m    855\u001b[0m                     number_of_points = int(\n",
      "\u001b[0;31mTypeError\u001b[0m: '<=' not supported between instances of 'NoneType' and 'int'"
     ]
    }
   ],
   "source": [
    "newhole=mech.circle(1)\n",
    "holecell=gdspy.Cell('circle0')\n",
    "newhole.add2cell(holecell)\n",
    "holes=mech.holes('circles',holecell,arrayaxes=((2,0),(0,2)),arrayperiods=(20,40),excludepoly=[[(1,1),(2,1),(2,2),(1,2)]])\n",
    "gdspy.write_gds('tutorial.gds', unit=1.0e-6, precision=1.0e-9)"
   ]
  },
  {
   "cell_type": "code",
   "execution_count": null,
   "metadata": {},
   "outputs": [],
   "source": []
  },
  {
   "cell_type": "code",
   "execution_count": null,
   "metadata": {},
   "outputs": [],
   "source": []
  },
  {
   "cell_type": "code",
   "execution_count": null,
   "metadata": {},
   "outputs": [],
   "source": []
  },
  {
   "cell_type": "code",
   "execution_count": null,
   "metadata": {},
   "outputs": [],
   "source": [
    "pt=[[(2,2),(4,2),(3,4)]]"
   ]
  },
  {
   "cell_type": "code",
   "execution_count": null,
   "metadata": {},
   "outputs": [],
   "source": [
    "pt[0][0]"
   ]
  },
  {
   "cell_type": "code",
   "execution_count": null,
   "metadata": {},
   "outputs": [],
   "source": [
    "gdspy.inside([[2,2],[1,1.1]],[[(0,0),(4,0),(4,4),(0,4)]])"
   ]
  },
  {
   "cell_type": "code",
   "execution_count": null,
   "metadata": {},
   "outputs": [],
   "source": [
    "newcpw=rf.cpw(\"CPW1\",5,1,0,0,0)\n",
    "cpw_cell = gdspy.Cell('CPW')\n",
    "newcpw.endgap()"
   ]
  },
  {
   "cell_type": "code",
   "execution_count": null,
   "metadata": {},
   "outputs": [],
   "source": [
    "newcpw.paths[1].polygons"
   ]
  },
  {
   "cell_type": "code",
   "execution_count": null,
   "metadata": {},
   "outputs": [],
   "source": [
    "[array([[ -1.00000000e+00,  -3.50000000e+00],\n",
    "        [  2.22044605e-16,  -3.50000000e+00],\n",
    "        [  6.66133815e-16,   3.50000000e+00],\n",
    "        [ -1.00000000e+00,   3.50000000e+00]])]"
   ]
  },
  {
   "cell_type": "code",
   "execution_count": null,
   "metadata": {},
   "outputs": [],
   "source": []
  }
 ],
 "metadata": {
  "kernelspec": {
   "display_name": "Python 3",
   "language": "python",
   "name": "python3"
  },
  "language_info": {
   "codemirror_mode": {
    "name": "ipython",
    "version": 3
   },
   "file_extension": ".py",
   "mimetype": "text/x-python",
   "name": "python",
   "nbconvert_exporter": "python",
   "pygments_lexer": "ipython3",
   "version": "3.6.3"
  }
 },
 "nbformat": 4,
 "nbformat_minor": 2
}
