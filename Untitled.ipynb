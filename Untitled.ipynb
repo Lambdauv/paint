{
 "cells": [
  {
   "cell_type": "code",
   "execution_count": 1,
   "metadata": {},
   "outputs": [],
   "source": [
    "import gdspy\n",
    "import numpy\n",
    "import rf\n",
    "import mech"
   ]
  },
  {
   "cell_type": "code",
   "execution_count": null,
   "metadata": {},
   "outputs": [],
   "source": [
    "newcpw=rf.cpw(\"CPW1\",5,1,0,0,0)\n",
    "cpw_cell = gdspy.Cell('CPW')\n",
    "newcpw.addlauncher(50,20,80,80)\n",
    "newcpw.addsegment(0,50)\n",
    "newcpw.addturn(numpy.pi/2,10)\n",
    "newcpw.addsegment(newcpw.paths[0].direction,50)\n",
    "newcpw.addlauncher(50,20,80,80)\n",
    "newcpw.add2cell(cpw_cell)\n",
    "gdspy.write_gds('tutorial.gds', unit=1.0e-6, precision=1.0e-9)"
   ]
  },
  {
   "cell_type": "code",
   "execution_count": null,
   "metadata": {},
   "outputs": [],
   "source": [
    "newcpw=rf.cpw(\"CPW1\",5,1,0,0,0)\n",
    "cpw_cell = gdspy.Cell('CPW')\n",
    "newcpw.addlauncher(50,20,80,80)\n",
    "newcpw.addsegment(0,50)\n",
    "newcpw.endgap()\n",
    "newcpw.add2cell(cpw_cell)\n",
    "gdspy.write_gds('tutorial.gds', unit=1.0e-6, precision=1.0e-9)"
   ]
  },
  {
   "cell_type": "code",
   "execution_count": null,
   "metadata": {},
   "outputs": [],
   "source": [
    "newcpw=rf.cpw(\"CPW1\",5,1,0,0,0)\n",
    "cpw_cell = gdspy.Cell('CPW')\n",
    "newcpw.endgap()\n",
    "newcpw.addsegment(0,50)\n",
    "newcpw.addlauncher(50,20,80,80)\n",
    "\n",
    "newcpw.add2cell(cpw_cell)\n",
    "gdspy.write_gds('tutorial.gds', unit=1.0e-6, precision=1.0e-9)"
   ]
  },
  {
   "cell_type": "code",
   "execution_count": null,
   "metadata": {},
   "outputs": [],
   "source": [
    "newcpw.paths[0].__dict__.keys()"
   ]
  },
  {
   "cell_type": "code",
   "execution_count": null,
   "metadata": {},
   "outputs": [],
   "source": [
    "import inspect"
   ]
  },
  {
   "cell_type": "code",
   "execution_count": null,
   "metadata": {},
   "outputs": [],
   "source": [
    " inspect.getmembers(newcpw.paths[0], lambda a:not(inspect.isroutine(a)))"
   ]
  },
  {
   "cell_type": "code",
   "execution_count": null,
   "metadata": {},
   "outputs": [],
   "source": [
    "newcpw.paths[0].polygons"
   ]
  },
  {
   "cell_type": "code",
   "execution_count": null,
   "metadata": {},
   "outputs": [],
   "source": [
    "newcpw=rf.cpw(\"CPW1\",5,1,0,0,0)\n",
    "cpw_cell = gdspy.Cell('CPW')\n",
    "newcpw.endgap()\n"
   ]
  },
  {
   "cell_type": "code",
   "execution_count": null,
   "metadata": {},
   "outputs": [],
   "source": [
    "newcpw.addsegment(0,50)"
   ]
  },
  {
   "cell_type": "code",
   "execution_count": null,
   "metadata": {},
   "outputs": [],
   "source": [
    "newcpw=rf.cpw(\"CPW1\",5,1,0,0,0)\n",
    "cpw_cell = gdspy.Cell('CPW')\n",
    "newcpw.endgap()\n",
    "newcpw.addmeander(50,80,100,30,10)"
   ]
  },
  {
   "cell_type": "code",
   "execution_count": null,
   "metadata": {},
   "outputs": [],
   "source": [
    "newcpw.add2cell(cpw_cell)\n",
    "gdspy.write_gds('tutorial.gds', unit=1.0e-6, precision=1.0e-9)"
   ]
  },
  {
   "cell_type": "code",
   "execution_count": null,
   "metadata": {},
   "outputs": [],
   "source": [
    "newjj=rf.squid(40,5,5,30)\n",
    "newjj.addwires([1,1,3],5)\n",
    "jj_cell=gdspy.Cell('JJ')\n",
    "newjj.add2cell(jj_cell)\n",
    "gdspy.write_gds('tutorial.gds', unit=1.0e-6, precision=1.0e-9)"
   ]
  },
  {
   "cell_type": "code",
   "execution_count": 2,
   "metadata": {},
   "outputs": [],
   "source": [
    "newhole=mech.cross(0.169,0.488)"
   ]
  },
  {
   "cell_type": "code",
   "execution_count": 3,
   "metadata": {},
   "outputs": [],
   "source": [
    "holecell=gdspy.Cell('cross0')"
   ]
  },
  {
   "cell_type": "code",
   "execution_count": 5,
   "metadata": {},
   "outputs": [],
   "source": [
    "holes=mech.holes('crosses',holecell,arrayaxes=((0.55,0),(0,0.55)),arrayperiods=(10,20))"
   ]
  },
  {
   "cell_type": "code",
   "execution_count": 4,
   "metadata": {},
   "outputs": [],
   "source": [
    "newhole.add2cell(holecell)"
   ]
  },
  {
   "cell_type": "code",
   "execution_count": 6,
   "metadata": {},
   "outputs": [],
   "source": [
    "gdspy.write_gds('tutorial.gds', unit=1.0e-6, precision=1.0e-9)"
   ]
  },
  {
   "cell_type": "code",
   "execution_count": null,
   "metadata": {},
   "outputs": [],
   "source": []
  }
 ],
 "metadata": {
  "kernelspec": {
   "display_name": "Python 3",
   "language": "python",
   "name": "python3"
  },
  "language_info": {
   "codemirror_mode": {
    "name": "ipython",
    "version": 3
   },
   "file_extension": ".py",
   "mimetype": "text/x-python",
   "name": "python",
   "nbconvert_exporter": "python",
   "pygments_lexer": "ipython3",
   "version": "3.6.3"
  }
 },
 "nbformat": 4,
 "nbformat_minor": 2
}
