{
 "cells": [
  {
   "cell_type": "code",
   "execution_count": 1,
   "metadata": {},
   "outputs": [],
   "source": [
    "import gdspy\n",
    "import numpy\n",
    "import rf"
   ]
  },
  {
   "cell_type": "code",
   "execution_count": null,
   "metadata": {},
   "outputs": [],
   "source": [
    "newcpw=rf.cpw(\"CPW1\",5,1,0,0,0)\n",
    "cpw_cell = gdspy.Cell('CPW')\n",
    "newcpw.addlauncher(50,20,80,80)\n",
    "newcpw.addsegment(0,50)\n",
    "newcpw.addturn(numpy.pi/2,10)\n",
    "newcpw.addsegment(newcpw.paths[0].direction,50)\n",
    "newcpw.addlauncher(50,20,80,80)\n",
    "newcpw.add2cell(cpw_cell)\n",
    "gdspy.write_gds('tutorial.gds', unit=1.0e-6, precision=1.0e-9)"
   ]
  },
  {
   "cell_type": "code",
   "execution_count": null,
   "metadata": {},
   "outputs": [],
   "source": [
    "newcpw=rf.cpw(\"CPW1\",5,1,0,0,0)\n",
    "cpw_cell = gdspy.Cell('CPW')\n",
    "newcpw.addlauncher(50,20,80,80)\n",
    "newcpw.addsegment(0,50)\n",
    "newcpw.endgap()\n",
    "newcpw.add2cell(cpw_cell)\n",
    "gdspy.write_gds('tutorial.gds', unit=1.0e-6, precision=1.0e-9)"
   ]
  },
  {
   "cell_type": "code",
   "execution_count": 2,
   "metadata": {},
   "outputs": [],
   "source": [
    "newcpw=rf.cpw(\"CPW1\",5,1,0,0,0)\n",
    "cpw_cell = gdspy.Cell('CPW')\n",
    "newcpw.endgap()\n",
    "newcpw.addsegment(0,50)\n",
    "newcpw.addlauncher(50,20,80,80)\n",
    "\n",
    "newcpw.add2cell(cpw_cell)\n",
    "gdspy.write_gds('tutorial.gds', unit=1.0e-6, precision=1.0e-9)"
   ]
  }
 ],
 "metadata": {
  "kernelspec": {
   "display_name": "Python 3",
   "language": "python",
   "name": "python3"
  },
  "language_info": {
   "codemirror_mode": {
    "name": "ipython",
    "version": 3
   },
   "file_extension": ".py",
   "mimetype": "text/x-python",
   "name": "python",
   "nbconvert_exporter": "python",
   "pygments_lexer": "ipython3",
   "version": "3.6.3"
  }
 },
 "nbformat": 4,
 "nbformat_minor": 2
}
